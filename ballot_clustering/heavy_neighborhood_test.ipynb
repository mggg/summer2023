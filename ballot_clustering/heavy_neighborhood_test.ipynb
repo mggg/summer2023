{
 "cells": [
  {
   "cell_type": "code",
   "execution_count": 3,
   "metadata": {},
   "outputs": [],
   "source": [
    "%load_ext autoreload\n",
    "%autoreload 2"
   ]
  },
  {
   "cell_type": "code",
   "execution_count": 6,
   "metadata": {},
   "outputs": [],
   "source": [
    "from pref_schedule import pref_schedule\n",
    "from parser import parse\n",
    "from clustering import *"
   ]
  },
  {
   "cell_type": "code",
   "execution_count": 8,
   "metadata": {},
   "outputs": [],
   "source": [
    "dict, names, location = parse('dumgal12-09.blt')"
   ]
  },
  {
   "cell_type": "code",
   "execution_count": 9,
   "metadata": {},
   "outputs": [],
   "source": [
    "dumgal1209 = pref_schedule(dict)"
   ]
  },
  {
   "cell_type": "code",
   "execution_count": 10,
   "metadata": {},
   "outputs": [
    {
     "data": {
      "text/plain": [
       "{(4, 5, 2): (<networkx.classes.graph.Graph at 0x16b64baf0>, 1640),\n",
       " (1, 3): (<networkx.classes.graph.Graph at 0x16b64b970>, 1042)}"
      ]
     },
     "execution_count": 10,
     "metadata": {},
     "output_type": "execute_result"
    }
   ],
   "source": [
    "dumgal1209.k_heaviest_neighborhoods()"
   ]
  },
  {
   "cell_type": "code",
   "execution_count": 12,
   "metadata": {},
   "outputs": [
    {
     "data": {
      "text/plain": [
       "{(4, 5): (<networkx.classes.graph.Graph at 0x16b64bb80>, 1124),\n",
       " (3, 1): (<networkx.classes.graph.Graph at 0x16b64bd30>, 744)}"
      ]
     },
     "execution_count": 12,
     "metadata": {},
     "output_type": "execute_result"
    }
   ],
   "source": [
    "dumgal1209.k_heaviest_neighborhoods(radius= 1)"
   ]
  },
  {
   "cell_type": "code",
   "execution_count": 11,
   "metadata": {},
   "outputs": [
    {
     "data": {
      "text/plain": [
       "{(4,): (<networkx.classes.graph.Graph at 0x16b64b250>, 2445),\n",
       " (1, 3, 2): (<networkx.classes.graph.Graph at 0x16b64bfa0>, 1111)}"
      ]
     },
     "execution_count": 11,
     "metadata": {},
     "output_type": "execute_result"
    }
   ],
   "source": [
    "dumgal1209.k_heaviest_neighborhoods(radius= 3)"
   ]
  },
  {
   "cell_type": "code",
   "execution_count": 8,
   "metadata": {},
   "outputs": [
    {
     "ename": "Exception",
     "evalue": "Unknown ballot found in election: (4,)",
     "output_type": "error",
     "traceback": [
      "\u001b[0;31m---------------------------------------------------------------------------\u001b[0m",
      "\u001b[0;31mException\u001b[0m                                 Traceback (most recent call last)",
      "Cell \u001b[0;32mIn[8], line 5\u001b[0m\n\u001b[1;32m      3\u001b[0m \u001b[39mfor\u001b[39;00m i \u001b[39min\u001b[39;00m \u001b[39mrange\u001b[39m(n):\n\u001b[1;32m      4\u001b[0m     \u001b[39mprint\u001b[39m(\u001b[39mf\u001b[39m\u001b[39m\"\u001b[39m\u001b[39m{\u001b[39;00mi\u001b[39m \u001b[39m\u001b[39m+\u001b[39m\u001b[39m \u001b[39m\u001b[39m1\u001b[39m\u001b[39m}\u001b[39;00m\u001b[39m: \u001b[39m\u001b[39m{\u001b[39;00mnames[i]\u001b[39m}\u001b[39;00m\u001b[39m\"\u001b[39m)\n\u001b[0;32m----> 5\u001b[0m bg \u001b[39m=\u001b[39m ballot_graph(n, \u001b[39m4\u001b[39;49m, election)\n\u001b[1;32m      6\u001b[0m \u001b[39mprint\u001b[39m(\u001b[39m\"\u001b[39m\u001b[39m\\n\u001b[39;00m\u001b[39mk-means centers:\u001b[39m\u001b[39m\"\u001b[39m)\n\u001b[1;32m      7\u001b[0m \u001b[39mtry\u001b[39;00m:\n",
      "File \u001b[0;32m~/Desktop/MGGG/summer2023/ballot_clustering/clustering.py:31\u001b[0m, in \u001b[0;36mballot_graph\u001b[0;34m(n, k, election, remove_k_minus_1)\u001b[0m\n\u001b[1;32m     28\u001b[0m             bg\u001b[39m.\u001b[39madd_node(truncated_ballot, ballot_weight\u001b[39m=\u001b[39mballot_weight\n\u001b[1;32m     29\u001b[0m                         \u001b[39m+\u001b[39m bg\u001b[39m.\u001b[39mnodes()[truncated_ballot][\u001b[39m\"\u001b[39m\u001b[39mballot_weight\u001b[39m\u001b[39m\"\u001b[39m])\n\u001b[1;32m     30\u001b[0m         \u001b[39melse\u001b[39;00m:\n\u001b[0;32m---> 31\u001b[0m             \u001b[39mraise\u001b[39;00m \u001b[39mException\u001b[39;00m(\u001b[39mf\u001b[39m\u001b[39m\"\u001b[39m\u001b[39mUnknown ballot found in election: \u001b[39m\u001b[39m{\u001b[39;00mtruncated_ballot\u001b[39m}\u001b[39;00m\u001b[39m\"\u001b[39m)\n\u001b[1;32m     32\u001b[0m \u001b[39mfor\u001b[39;00m old_ballot \u001b[39min\u001b[39;00m bg\u001b[39m.\u001b[39mnodes():\n\u001b[1;32m     33\u001b[0m     num_positions_filled \u001b[39m=\u001b[39m \u001b[39mlen\u001b[39m(old_ballot)\n",
      "\u001b[0;31mException\u001b[0m: Unknown ballot found in election: (4,)"
     ]
    }
   ],
   "source": [
    "election, names, location = parse('dumgal12-07.blt')\n",
    "n = len(names)\n",
    "for i in range(n):\n",
    "    print(f\"{i + 1}: {names[i]}\")\n",
    "bg = ballot_graph(n, 4, election)\n",
    "print(\"\\nk-means centers:\")\n",
    "try:\n",
    "    print(k_means(bg, n, 4, 2))\n",
    "except:\n",
    "    print(\"Can't do it, too many candidates.\")"
   ]
  },
  {
   "cell_type": "code",
   "execution_count": 5,
   "metadata": {},
   "outputs": [],
   "source": [
    "dumgal1207, _, _ = parse('dumgal12-07.blt')"
   ]
  },
  {
   "cell_type": "code",
   "execution_count": 6,
   "metadata": {},
   "outputs": [],
   "source": [
    "dumgal1207 = pref_schedule(dumgal1207)"
   ]
  },
  {
   "cell_type": "code",
   "execution_count": 7,
   "metadata": {},
   "outputs": [
    {
     "data": {
      "text/plain": [
       "{(4, 3, 5): (<networkx.classes.graph.Graph at 0x16b64bee0>, 1671),\n",
       " (1, 2): (<networkx.classes.graph.Graph at 0x16b64be50>, 1114)}"
      ]
     },
     "execution_count": 7,
     "metadata": {},
     "output_type": "execute_result"
    }
   ],
   "source": [
    "dumgal1207.k_heaviest_neighborhoods()"
   ]
  },
  {
   "cell_type": "code",
   "execution_count": 21,
   "metadata": {},
   "outputs": [],
   "source": [
    "edin1702, _, _ = parse('data_for_Jamies_kmeans_tests/edinburgh17-01.blt')"
   ]
  },
  {
   "cell_type": "code",
   "execution_count": 22,
   "metadata": {},
   "outputs": [],
   "source": [
    "edin1702 = pref_schedule(edin1702)"
   ]
  },
  {
   "attachments": {},
   "cell_type": "markdown",
   "metadata": {},
   "source": []
  },
  {
   "cell_type": "code",
   "execution_count": 16,
   "metadata": {},
   "outputs": [
    {
     "ename": "KeyError",
     "evalue": "10",
     "output_type": "error",
     "traceback": [
      "\u001b[0;31m---------------------------------------------------------------------------\u001b[0m",
      "\u001b[0;31mKeyError\u001b[0m                                  Traceback (most recent call last)",
      "Cell \u001b[0;32mIn[16], line 1\u001b[0m\n\u001b[0;32m----> 1\u001b[0m edin1702\u001b[39m.\u001b[39;49mk_heaviest_neighborhoods()\n",
      "File \u001b[0;32m~/Desktop/MGGG/summer2023/ballot_clustering/pref_schedule.py:232\u001b[0m, in \u001b[0;36mpref_schedule.k_heaviest_neighborhoods\u001b[0;34m(self, k, radius)\u001b[0m\n\u001b[1;32m    230\u001b[0m \u001b[39mfor\u001b[39;00m center \u001b[39min\u001b[39;00m cast_ballots:\n\u001b[1;32m    231\u001b[0m     tmp \u001b[39m=\u001b[39m \u001b[39m0\u001b[39m\n\u001b[0;32m--> 232\u001b[0m     ball \u001b[39m=\u001b[39m \u001b[39mself\u001b[39;49m\u001b[39m.\u001b[39;49msubgraph_neighborhood(center, radius)\n\u001b[1;32m    233\u001b[0m     relevant \u001b[39m=\u001b[39m cast_ballots\u001b[39m.\u001b[39mintersection(\u001b[39mset\u001b[39m(ball\u001b[39m.\u001b[39mnodes))\u001b[39m##cast ballots inside the ball\u001b[39;00m\n\u001b[1;32m    234\u001b[0m     \u001b[39mfor\u001b[39;00m node \u001b[39min\u001b[39;00m relevant: \n",
      "File \u001b[0;32m~/Desktop/MGGG/summer2023/ballot_clustering/pref_schedule.py:219\u001b[0m, in \u001b[0;36mpref_schedule.subgraph_neighborhood\u001b[0;34m(self, center, radius)\u001b[0m\n\u001b[1;32m    218\u001b[0m \u001b[39mdef\u001b[39;00m \u001b[39msubgraph_neighborhood\u001b[39m(\u001b[39mself\u001b[39m,center,radius \u001b[39m=\u001b[39m \u001b[39m2\u001b[39m):\n\u001b[0;32m--> 219\u001b[0m     \u001b[39mreturn\u001b[39;00m nx\u001b[39m.\u001b[39mego_graph(Graphs[\u001b[39mself\u001b[39;49m\u001b[39m.\u001b[39;49mnum_cands],center,radius)\n",
      "\u001b[0;31mKeyError\u001b[0m: 10"
     ]
    }
   ],
   "source": [
    "edin1702.k_heaviest_neighborhoods()"
   ]
  },
  {
   "cell_type": "code",
   "execution_count": null,
   "metadata": {},
   "outputs": [],
   "source": []
  }
 ],
 "metadata": {
  "kernelspec": {
   "display_name": "Python 3",
   "language": "python",
   "name": "python3"
  },
  "language_info": {
   "codemirror_mode": {
    "name": "ipython",
    "version": 3
   },
   "file_extension": ".py",
   "mimetype": "text/x-python",
   "name": "python",
   "nbconvert_exporter": "python",
   "pygments_lexer": "ipython3",
   "version": "3.9.6"
  },
  "orig_nbformat": 4
 },
 "nbformat": 4,
 "nbformat_minor": 2
}
