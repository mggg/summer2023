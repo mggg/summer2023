{
 "cells": [
  {
   "attachments": {},
   "cell_type": "markdown",
   "metadata": {},
   "source": [
    "Code that clusters ballot graph based on comparing PL probability of generated ballots from intervals. (BT needs further theorizing to deal with partial ballots, truncation.)"
   ]
  },
  {
   "cell_type": "code",
   "execution_count": 2,
   "metadata": {},
   "outputs": [],
   "source": [
    "%load_ext autoreload\n",
    "%autoreload 2"
   ]
  },
  {
   "cell_type": "code",
   "execution_count": 5,
   "metadata": {},
   "outputs": [],
   "source": [
    "from pref_schedule import pref_schedule\n",
    "import random "
   ]
  },
  {
   "cell_type": "code",
   "execution_count": 7,
   "metadata": {},
   "outputs": [],
   "source": [
    "ballot_dict = {(1,2,3):400, (1, 3, 2): 100, (2, 1, 3): 150, (2, 3, 1): 50, (3,2,1):400, (3, 1, 2): 300, (3,):5, (2,):7, (1,):9}\n",
    "\n",
    "p = pref_schedule(ballot_dict)"
   ]
  },
  {
   "cell_type": "code",
   "execution_count": 26,
   "metadata": {},
   "outputs": [],
   "source": [
    "G = pref_schedule.build_graph(3)"
   ]
  },
  {
   "cell_type": "code",
   "execution_count": 10,
   "metadata": {},
   "outputs": [],
   "source": [
    "class prefInterval:\n",
    "    def __init__(self, support_interval, trunc_interval):\n",
    "        self.support_interval = support_interval\n",
    "        self.trunc_interval = trunc_interval\n",
    "\n",
    "    def get_support_interval(self):\n",
    "        return self.support_interval\n",
    "    \n",
    "    def get_trunc_interval(self):\n",
    "        return self.trunc_interval"
   ]
  },
  {
   "cell_type": "code",
   "execution_count": 11,
   "metadata": {},
   "outputs": [
    {
     "data": {
      "text/plain": [
       "{1: 0.5, 2: 0.4, 3: 0.1}"
      ]
     },
     "execution_count": 11,
     "metadata": {},
     "output_type": "execute_result"
    }
   ],
   "source": [
    "support_interval = {1: 0.5, 2: 0.4, 3: 0.1}\n",
    "trunc_interval = [0, 0.5, 0.7]\n",
    "\n",
    "int = prefInterval(support_interval, trunc_interval)\n",
    "int.get_support_interval()\n"
   ]
  },
  {
   "cell_type": "code",
   "execution_count": 17,
   "metadata": {},
   "outputs": [],
   "source": [
    "def pl_probability(ballot, pref_interval):\n",
    "    '''\n",
    "    Computes PL probability of a ballot given an interval\n",
    "    TODO: adapt for truncation? \n",
    "    '''\n",
    "    prob = 1\n",
    "\n",
    "    remaining_interval_length = sum([i for i in pref_interval.get_support_interval().values()]) # should be 1 \n",
    "    \n",
    "    for cand in ballot: \n",
    "        # multiply prob by the length of the corresponding sub-interval, divided by the length\n",
    "        # of the remainin subinterval \n",
    "        prob = prob * (pref_interval.get_support_interval()[cand] / remaining_interval_length)\n",
    "        # update the length of the remaining subinterval by subtracting the length of the \n",
    "        # subinterval just used \n",
    "        remaining_interval_length -= pref_interval.get_support_interval()[cand]\n",
    "    \n",
    "    return prob\n"
   ]
  },
  {
   "cell_type": "code",
   "execution_count": 13,
   "metadata": {},
   "outputs": [],
   "source": [
    "def pl_probability_with_truncation(ballot, pref_interval):\n",
    "    '''\n",
    "    Computes PL probability of a ballot given an interval with candidate strenghs and another interval with probabilities of truncation at \n",
    "    each stage. trunc_interval[0] should be 0 if we don't allow empty ballots  \n",
    "    '''\n",
    "    prob = 1\n",
    "\n",
    "    remaining_interval_length = sum([i for i in pref_interval.get_support_interval().values()]) # should be 1 \n",
    "    \n",
    "    for i, cand in enumerate(ballot): \n",
    "        # no truncation at stage i\n",
    "        prob = prob * (1 - pref_interval.get_trunc_interval()[i])\n",
    "        # multiply prob by the length of the corresponding sub-interval, divided by the length\n",
    "        # of the remainin subinterval \n",
    "        prob = prob * (pref_interval.get_support_interval()[cand] / remaining_interval_length)\n",
    "\n",
    "        # update the length of the remaining subinterval by subtracting the length of the \n",
    "        # subinterval just used \n",
    "        remaining_interval_length -= pref_interval.get_support_interval()[cand]\n",
    "    \n",
    "    # if there is truncation, account for this probability \n",
    "    if len(ballot) < len(trunc_interval):\n",
    "        prob = prob * pref_interval.get_trunc_interval()[len(ballot)]\n",
    "\n",
    "    return prob"
   ]
  },
  {
   "cell_type": "code",
   "execution_count": 14,
   "metadata": {},
   "outputs": [],
   "source": [
    "def bt_probability(ballot, pref_interval):\n",
    "    # note -- technically the bt_probability is only prorportional to the given value. however, for purposes of classificaiton, \n",
    "    # this shouldn't matter. \n",
    "    # TODO: How do we deal with truncation? (Same as PL?) What about ballots of length 1? (prob proportional to length of sub-interval of ranked candidate?\n",
    "    # This would seem to unfairly penalized bullet votes as compared to votes of length 2)\n",
    "    # How do we factor in diminishing consideration down the ballot? \n",
    "\n",
    "    prob = 1\n",
    "    for i in range(len(ballot)):\n",
    "        support_for_i = pref_interval.get_support_interval()[ballot[i]]\n",
    "        for j in range(i+1, len(ballot)):\n",
    "            support_for_j = pref_interval.get_support_interval()[ballot[j]]\n",
    "            prob = prob * (support_for_i / (support_for_i + support_for_j))\n",
    "\n",
    "    return prob "
   ]
  },
  {
   "cell_type": "code",
   "execution_count": null,
   "metadata": {},
   "outputs": [
    {
     "name": "stdout",
     "output_type": "stream",
     "text": [
      "0.5\n"
     ]
    }
   ],
   "source": [
    "print(pl_probability((1,), int))"
   ]
  },
  {
   "cell_type": "code",
   "execution_count": null,
   "metadata": {},
   "outputs": [
    {
     "name": "stdout",
     "output_type": "stream",
     "text": [
      "0.2\n"
     ]
    }
   ],
   "source": [
    "print(pl_probability_with_truncation((2,), int))"
   ]
  },
  {
   "cell_type": "code",
   "execution_count": 19,
   "metadata": {},
   "outputs": [
    {
     "name": "stdout",
     "output_type": "stream",
     "text": [
      "0.37037037037037046\n"
     ]
    }
   ],
   "source": [
    "print(bt_probability((1, 2, 3), int))"
   ]
  },
  {
   "cell_type": "code",
   "execution_count": 24,
   "metadata": {},
   "outputs": [],
   "source": [
    "def compute_clusters_from_intervals(pref_intervals, graph, prob_funciton, ballot_dict): \n",
    "    cluster_map = {}\n",
    "    fit_score = 0\n",
    "\n",
    "    for ballot in graph.nodes():\n",
    "        probs = [prob_funciton(ballot, i) for i in pref_intervals]\n",
    "        max_prob = max(probs)\n",
    "        best_intervals = [pref_intervals[i] for i, prob in enumerate(probs) if prob == max_prob]\n",
    "        chosen_interval = random.choice(best_intervals)\n",
    "        \n",
    "        cluster_map[ballot] = chosen_interval.get_support_interval()\n",
    "        fit_score += max_prob * ballot_dict[ballot]\n",
    "    \n",
    "    num_ballots = sum([count for count in ballot_dict.values()]) \n",
    "    fit_score = fit_score / num_ballots\n",
    "\n",
    "    return cluster_map, fit_score"
   ]
  },
  {
   "cell_type": "code",
   "execution_count": 27,
   "metadata": {},
   "outputs": [
    {
     "data": {
      "text/plain": [
       "({(1,): {1: 0.5, 2: 0.3, 3: 0.1},\n",
       "  (1, 2, 3): {1: 0.5, 2: 0.3, 3: 0.1},\n",
       "  (1, 3, 2): {1: 0.5, 2: 0.3, 3: 0.1},\n",
       "  (2,): {1: 0.1, 2: 0.4, 3: 0.5},\n",
       "  (2, 3, 1): {1: 0.1, 2: 0.4, 3: 0.5},\n",
       "  (2, 1, 3): {1: 0.5, 2: 0.3, 3: 0.1},\n",
       "  (3,): {1: 0.1, 2: 0.4, 3: 0.5},\n",
       "  (3, 1, 2): {1: 0.1, 2: 0.4, 3: 0.5},\n",
       "  (3, 2, 1): {1: 0.1, 2: 0.4, 3: 0.5}},\n",
       " 0.048897490030494956)"
      ]
     },
     "execution_count": 27,
     "metadata": {},
     "output_type": "execute_result"
    }
   ],
   "source": [
    "pref_intervals = [prefInterval({1: 0.5, 2: 0.3, 3: 0.1}, [0, 0.5, 0.7]), prefInterval({1: 0.1, 2: 0.4, 3: 0.5}, [0, 0.5, 0.7])]\n",
    "compute_clusters_from_intervals(pref_intervals, G, pl_probability_with_truncation, ballot_dict)"
   ]
  },
  {
   "cell_type": "code",
   "execution_count": 28,
   "metadata": {},
   "outputs": [
    {
     "data": {
      "text/plain": [
       "({(1,): {1: 0.1, 2: 0.4, 3: 0.5},\n",
       "  (1, 2, 3): {1: 0.5, 2: 0.3, 3: 0.1},\n",
       "  (1, 3, 2): {1: 0.5, 2: 0.3, 3: 0.1},\n",
       "  (2,): {1: 0.5, 2: 0.3, 3: 0.1},\n",
       "  (2, 3, 1): {1: 0.1, 2: 0.4, 3: 0.5},\n",
       "  (2, 1, 3): {1: 0.5, 2: 0.3, 3: 0.1},\n",
       "  (3,): {1: 0.1, 2: 0.4, 3: 0.5},\n",
       "  (3, 1, 2): {1: 0.1, 2: 0.4, 3: 0.5},\n",
       "  (3, 2, 1): {1: 0.1, 2: 0.4, 3: 0.5}},\n",
       " 0.2928696861886517)"
      ]
     },
     "execution_count": 28,
     "metadata": {},
     "output_type": "execute_result"
    }
   ],
   "source": [
    "compute_clusters_from_intervals(pref_intervals, G, bt_probability, ballot_dict)"
   ]
  },
  {
   "cell_type": "code",
   "execution_count": null,
   "metadata": {},
   "outputs": [
    {
     "name": "stdout",
     "output_type": "stream",
     "text": [
      "[((1,), (1, 2, 3)), ((1,), (1, 3, 2)), ((1, 2, 3), (1, 3, 2)), ((1, 2, 3), (2, 1, 3)), ((1, 3, 2), (3, 1, 2)), ((2,), (2, 3, 1)), ((2,), (2, 1, 3)), ((2, 3, 1), (2, 1, 3)), ((2, 3, 1), (3, 2, 1)), ((3,), (3, 1, 2)), ((3,), (3, 2, 1)), ((3, 1, 2), (3, 2, 1))]\n"
     ]
    }
   ],
   "source": [
    "\n",
    "# for edge in G.edges():\n",
    "#     u, v = edge \n",
    "#     # find the discrepancy between the two nodes (swap or truncation) \n",
    "#     if len(u) == len(v):\n",
    "    \n",
    "#     # based on the discrepancy, calculate the corredsponding edge weight from the interval\n",
    "\n",
    "#     # add the edge back to the graph with the appropriate weight \n",
    "#     G.add_edge(u, v, weight = 2)\n",
    "\n"
   ]
  }
 ],
 "metadata": {
  "kernelspec": {
   "display_name": "Python 3",
   "language": "python",
   "name": "python3"
  },
  "language_info": {
   "codemirror_mode": {
    "name": "ipython",
    "version": 3
   },
   "file_extension": ".py",
   "mimetype": "text/x-python",
   "name": "python",
   "nbconvert_exporter": "python",
   "pygments_lexer": "ipython3",
   "version": "3.9.6"
  },
  "orig_nbformat": 4
 },
 "nbformat": 4,
 "nbformat_minor": 2
}
