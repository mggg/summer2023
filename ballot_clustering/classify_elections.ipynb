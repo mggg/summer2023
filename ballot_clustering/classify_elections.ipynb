{
 "cells": [
  {
   "cell_type": "code",
   "execution_count": 44,
   "id": "399bc6cf",
   "metadata": {},
   "outputs": [
    {
     "name": "stdout",
     "output_type": "stream",
     "text": [
      "7\n",
      "9\n",
      "7\n",
      "8\n",
      "8\n",
      "9\n",
      "8\n",
      "9\n",
      "8\n",
      "6\n",
      "4\n"
     ]
    },
    {
     "ename": "KeyboardInterrupt",
     "evalue": "",
     "output_type": "error",
     "traceback": [
      "\u001b[1;31m---------------------------------------------------------------------------\u001b[0m",
      "\u001b[1;31mKeyboardInterrupt\u001b[0m                         Traceback (most recent call last)",
      "Cell \u001b[1;32mIn[44], line 13\u001b[0m\n\u001b[0;32m     10\u001b[0m \u001b[38;5;28;01mwith\u001b[39;00m \u001b[38;5;28mopen\u001b[39m(os\u001b[38;5;241m.\u001b[39mpath\u001b[38;5;241m.\u001b[39mjoin(os\u001b[38;5;241m.\u001b[39mgetcwd()\u001b[38;5;241m+\u001b[39mpath, filename), \u001b[38;5;124m'\u001b[39m\u001b[38;5;124mr\u001b[39m\u001b[38;5;124m'\u001b[39m) \u001b[38;5;28;01mas\u001b[39;00m f: \n\u001b[0;32m     11\u001b[0m     ballot_dict, cands, st \u001b[38;5;241m=\u001b[39m parse(os\u001b[38;5;241m.\u001b[39mgetcwd()\u001b[38;5;241m+\u001b[39m\u001b[38;5;124m'\u001b[39m\u001b[38;5;124m/\u001b[39m\u001b[38;5;124m'\u001b[39m\u001b[38;5;241m+\u001b[39mpath\u001b[38;5;241m+\u001b[39m\u001b[38;5;124m'\u001b[39m\u001b[38;5;124m/\u001b[39m\u001b[38;5;124m'\u001b[39m\u001b[38;5;241m+\u001b[39m\u001b[38;5;28mstr\u001b[39m(filename))\n\u001b[1;32m---> 13\u001b[0m     elec \u001b[38;5;241m=\u001b[39m \u001b[43mpref_schedule\u001b[49m\u001b[43m(\u001b[49m\u001b[43mballot_dict\u001b[49m\u001b[43m)\u001b[49m\n\u001b[0;32m     14\u001b[0m     n \u001b[38;5;241m=\u001b[39m elec\u001b[38;5;241m.\u001b[39mnum_cands\n\u001b[0;32m     15\u001b[0m     \u001b[38;5;28;01mif\u001b[39;00m n \u001b[38;5;129;01mnot\u001b[39;00m \u001b[38;5;129;01min\u001b[39;00m classified_by_num_cands\u001b[38;5;241m.\u001b[39mkeys():\n",
      "File \u001b[1;32m~\\OneDrive\\Desktop\\summer2023\\ballot_clustering\\pref_schedule.py:37\u001b[0m, in \u001b[0;36mpref_schedule.__init__\u001b[1;34m(self, ballot_dict)\u001b[0m\n\u001b[0;32m     34\u001b[0m \u001b[38;5;28mself\u001b[39m\u001b[38;5;241m.\u001b[39mnum_cands \u001b[38;5;241m=\u001b[39m \u001b[38;5;28mlen\u001b[39m(\u001b[38;5;28mself\u001b[39m\u001b[38;5;241m.\u001b[39mcands)\n\u001b[0;32m     36\u001b[0m \u001b[38;5;28;01mif\u001b[39;00m \u001b[38;5;28mself\u001b[39m\u001b[38;5;241m.\u001b[39mnum_cands \u001b[38;5;129;01mnot\u001b[39;00m \u001b[38;5;129;01min\u001b[39;00m Graphs\u001b[38;5;241m.\u001b[39mkeys():\n\u001b[1;32m---> 37\u001b[0m     \u001b[43mpref_schedule\u001b[49m\u001b[38;5;241;43m.\u001b[39;49m\u001b[43mbuild_graph\u001b[49m\u001b[43m(\u001b[49m\u001b[38;5;28;43mself\u001b[39;49m\u001b[38;5;241;43m.\u001b[39;49m\u001b[43mnum_cands\u001b[49m\u001b[43m)\u001b[49m\n\u001b[0;32m     40\u001b[0m all_ballots \u001b[38;5;241m=\u001b[39m Graphs[\u001b[38;5;28mself\u001b[39m\u001b[38;5;241m.\u001b[39mnum_cands]\u001b[38;5;241m.\u001b[39mnodes\n\u001b[0;32m     41\u001b[0m di \u001b[38;5;241m=\u001b[39m {}\n",
      "File \u001b[1;32m~\\OneDrive\\Desktop\\summer2023\\ballot_clustering\\pref_schedule.py:148\u001b[0m, in \u001b[0;36mpref_schedule.build_graph\u001b[1;34m(n)\u001b[0m\n\u001b[0;32m    146\u001b[0m \u001b[38;5;66;03m# add the components from that graph to the larger graph\u001b[39;00m\n\u001b[0;32m    147\u001b[0m Gc\u001b[38;5;241m.\u001b[39madd_nodes_from(G_corner\u001b[38;5;241m.\u001b[39mnodes)\n\u001b[1;32m--> 148\u001b[0m \u001b[43mGc\u001b[49m\u001b[38;5;241;43m.\u001b[39;49m\u001b[43madd_edges_from\u001b[49m\u001b[43m(\u001b[49m\u001b[43mG_corner\u001b[49m\u001b[38;5;241;43m.\u001b[39;49m\u001b[43medges\u001b[49m\u001b[43m)\u001b[49m\n\u001b[0;32m    150\u001b[0m \u001b[38;5;66;03m# connect the bullet vote node to the appropriate verticies\u001b[39;00m\n\u001b[0;32m    151\u001b[0m \u001b[38;5;28;01mif\u001b[39;00m n \u001b[38;5;241m==\u001b[39m \u001b[38;5;241m3\u001b[39m:\n",
      "File \u001b[1;32mC:\\ProgramData\\Anaconda3\\lib\\site-packages\\networkx\\classes\\graph.py:951\u001b[0m, in \u001b[0;36mGraph.add_edges_from\u001b[1;34m(self, ebunch_to_add, **attr)\u001b[0m\n\u001b[0;32m    949\u001b[0m     \u001b[38;5;28mself\u001b[39m\u001b[38;5;241m.\u001b[39m_adj[v] \u001b[38;5;241m=\u001b[39m \u001b[38;5;28mself\u001b[39m\u001b[38;5;241m.\u001b[39madjlist_inner_dict_factory()\n\u001b[0;32m    950\u001b[0m     \u001b[38;5;28mself\u001b[39m\u001b[38;5;241m.\u001b[39m_node[v] \u001b[38;5;241m=\u001b[39m \u001b[38;5;28mself\u001b[39m\u001b[38;5;241m.\u001b[39mnode_attr_dict_factory()\n\u001b[1;32m--> 951\u001b[0m datadict \u001b[38;5;241m=\u001b[39m \u001b[38;5;28;43mself\u001b[39;49m\u001b[38;5;241;43m.\u001b[39;49m\u001b[43m_adj\u001b[49m\u001b[43m[\u001b[49m\u001b[43mu\u001b[49m\u001b[43m]\u001b[49m\u001b[38;5;241;43m.\u001b[39;49m\u001b[43mget\u001b[49m\u001b[43m(\u001b[49m\u001b[43mv\u001b[49m\u001b[43m,\u001b[49m\u001b[43m \u001b[49m\u001b[38;5;28;43mself\u001b[39;49m\u001b[38;5;241;43m.\u001b[39;49m\u001b[43medge_attr_dict_factory\u001b[49m\u001b[43m(\u001b[49m\u001b[43m)\u001b[49m\u001b[43m)\u001b[49m\n\u001b[0;32m    952\u001b[0m datadict\u001b[38;5;241m.\u001b[39mupdate(attr)\n\u001b[0;32m    953\u001b[0m datadict\u001b[38;5;241m.\u001b[39mupdate(dd)\n",
      "\u001b[1;31mKeyboardInterrupt\u001b[0m: "
     ]
    }
   ],
   "source": [
    "import os\n",
    "import pref_schedule as ps\n",
    "from pref_schedule import pref_schedule\n",
    "from election_parser import parse\n",
    "path = \"/data/Scotland data/aberdeen2017\"\n",
    "\n",
    "classified_by_num_cands = {}\n",
    "for filename in os.listdir(os.getcwd()+path):\n",
    "    \n",
    "        with open(os.path.join(os.getcwd()+path, filename), 'r') as f: \n",
    "            ballot_dict, cands, s = parse(os.getcwd()+'/'+path+'/'+str(filename))\n",
    "        \n",
    "            elec = pref_schedule(ballot_dict)\n",
    "            n = elec.num_cands\n",
    "            if n not in classified_by_num_cands.keys():\n",
    "                classified_by_num_cands[n] = [str(filename)]\n",
    "            else:\n",
    "                classified_by_num_cands[n].append(os.getcwd()+'/'+path+'/'+str(filename))\n",
    "            \n",
    "\n",
    "        \n",
    "        \n",
    "            \n",
    "        \n",
    "        \n",
    "        "
   ]
  },
  {
   "cell_type": "code",
   "execution_count": 45,
   "id": "6f420d27",
   "metadata": {},
   "outputs": [
    {
     "data": {
      "text/plain": [
       "{7: ['aberdeen17-01.blt',\n",
       "  'C:\\\\Users\\\\malav\\\\OneDrive\\\\Desktop\\\\summer2023\\\\ballot_clustering//data/Scotland data/aberdeen2017/aberdeen17-03.blt'],\n",
       " 9: ['aberdeen17-02.blt',\n",
       "  'C:\\\\Users\\\\malav\\\\OneDrive\\\\Desktop\\\\summer2023\\\\ballot_clustering//data/Scotland data/aberdeen2017/aberdeen17-06.blt',\n",
       "  'C:\\\\Users\\\\malav\\\\OneDrive\\\\Desktop\\\\summer2023\\\\ballot_clustering//data/Scotland data/aberdeen2017/aberdeen17-08.blt'],\n",
       " 8: ['aberdeen17-04.blt',\n",
       "  'C:\\\\Users\\\\malav\\\\OneDrive\\\\Desktop\\\\summer2023\\\\ballot_clustering//data/Scotland data/aberdeen2017/aberdeen17-05.blt',\n",
       "  'C:\\\\Users\\\\malav\\\\OneDrive\\\\Desktop\\\\summer2023\\\\ballot_clustering//data/Scotland data/aberdeen2017/aberdeen17-07.blt',\n",
       "  'C:\\\\Users\\\\malav\\\\OneDrive\\\\Desktop\\\\summer2023\\\\ballot_clustering//data/Scotland data/aberdeen2017/aberdeen17-09.blt'],\n",
       " 6: ['aberdeen17-10.blt'],\n",
       " 4: ['aberdeen17-11.blt']}"
      ]
     },
     "execution_count": 45,
     "metadata": {},
     "output_type": "execute_result"
    }
   ],
   "source": [
    "classified_by_num_cands"
   ]
  }
 ],
 "metadata": {
  "kernelspec": {
   "display_name": "Python 3 (ipykernel)",
   "language": "python",
   "name": "python3"
  },
  "language_info": {
   "codemirror_mode": {
    "name": "ipython",
    "version": 3
   },
   "file_extension": ".py",
   "mimetype": "text/x-python",
   "name": "python",
   "nbconvert_exporter": "python",
   "pygments_lexer": "ipython3",
   "version": "3.9.16"
  }
 },
 "nbformat": 4,
 "nbformat_minor": 5
}
